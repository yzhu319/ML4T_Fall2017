{
 "cells": [
  {
   "cell_type": "code",
   "execution_count": 118,
   "metadata": {
    "collapsed": true
   },
   "outputs": [],
   "source": [
    "\"\"\"Analyze a portfolio.\"\"\"\n",
    "\n",
    "import pandas as pd\n",
    "import numpy as np\n",
    "import datetime as dt\n",
    "from util import get_data, plot_data\n",
    "import math\n",
    "\n",
    "import matplotlib.pyplot as plt\n"
   ]
  },
  {
   "cell_type": "code",
   "execution_count": 119,
   "metadata": {
    "scrolled": true
   },
   "outputs": [],
   "source": [
    "sd = dt.datetime(2010,1,1)\n",
    "ed = dt.datetime(2010,12,31)\n",
    "#syms = ['AXP', 'HPQ', 'IBM', 'HNZ']\n",
    "syms = ['GOOG','AAPL','GLD','XOM']\n",
    "allocs=[0.2,0.3,0.4,0.1]\n",
    "#allocs=[0.0,0.0,0.0,1.0]\n",
    "\n",
    "sv=1000000\n",
    "rfr=0.0\n",
    "sf=252.0 #sampling frequency, if =252 for 1 year, it is daily return\n",
    "\n",
    "dates = pd.date_range(sd, ed)\n",
    "prices_all = get_data(syms, dates)  # automatically adds SPY\n",
    "prices = prices_all[syms]  # only portfolio symbols\n",
    "prices_SPY = prices_all['SPY']  # only SPY, for comparison later\n",
    "\n",
    "####New code below ###\n",
    "prices_norm = prices / prices.iloc[0]\n",
    "\n",
    "prices_alloc = prices_norm * allocs\n",
    "pos_alloc = sv * prices_alloc\n",
    "port_val = pos_alloc.sum(axis=1) # row sum, axis = 1; column sum, axis = 0\n"
   ]
  },
  {
   "cell_type": "code",
   "execution_count": 120,
   "metadata": {
    "collapsed": true
   },
   "outputs": [],
   "source": [
    "# Get portfolio statistics (note: std_daily_ret = volatility)\n",
    "#ev, cr, adr, sddr, sr\n",
    "ev = port_val[-1]\n",
    "cr = (port_val[-1] - port_val[0])/port_val[0]"
   ]
  },
  {
   "cell_type": "code",
   "execution_count": 124,
   "metadata": {},
   "outputs": [
    {
     "data": {
      "text/plain": [
       "2010-01-04         NaN\n",
       "2010-01-05   -0.000351\n",
       "2010-01-06   -0.002331\n",
       "2010-01-07   -0.007928\n",
       "2010-01-08    0.006150\n",
       "2010-01-11    0.003630\n",
       "2010-01-12   -0.015865\n",
       "2010-01-13    0.006561\n",
       "2010-01-14    0.000974\n",
       "2010-01-15   -0.013249\n",
       "2010-01-19    0.018247\n",
       "2010-01-20   -0.018227\n",
       "2010-01-21   -0.012223\n",
       "2010-01-22   -0.027545\n",
       "2010-01-25    0.005353\n",
       "2010-01-26    0.005508\n",
       "2010-01-27   -0.001770\n",
       "2010-01-28   -0.016430\n",
       "2010-01-29   -0.015217\n",
       "2010-02-01    0.017394\n",
       "2010-02-02    0.005295\n",
       "2010-02-03    0.006108\n",
       "2010-02-04   -0.034985\n",
       "2010-02-05    0.008176\n",
       "2010-02-08   -0.003853\n",
       "2010-02-09    0.011014\n",
       "2010-02-10   -0.003994\n",
       "2010-02-11    0.014621\n",
       "2010-02-12    0.000410\n",
       "2010-02-16    0.019674\n",
       "                ...   \n",
       "2010-11-18    0.019756\n",
       "2010-11-19   -0.002869\n",
       "2010-11-22    0.011261\n",
       "2010-11-23   -0.006171\n",
       "2010-11-24    0.010582\n",
       "2010-11-26   -0.005036\n",
       "2010-11-29    0.001558\n",
       "2010-11-30   -0.007656\n",
       "2010-12-01    0.010419\n",
       "2010-12-02    0.003594\n",
       "2010-12-03    0.007672\n",
       "2010-12-06    0.007659\n",
       "2010-12-07   -0.007389\n",
       "2010-12-08   -0.000508\n",
       "2010-12-09    0.000709\n",
       "2010-12-10    0.001424\n",
       "2010-12-13    0.003978\n",
       "2010-12-14   -0.001320\n",
       "2010-12-15   -0.005832\n",
       "2010-12-16   -0.000808\n",
       "2010-12-17    0.000136\n",
       "2010-12-20    0.005652\n",
       "2010-12-21    0.005521\n",
       "2010-12-22    0.001013\n",
       "2010-12-23   -0.002735\n",
       "2010-12-27    0.001564\n",
       "2010-12-28    0.006914\n",
       "2010-12-29    0.001698\n",
       "2010-12-30   -0.004336\n",
       "2010-12-31    0.002148\n",
       "Length: 252, dtype: float64"
      ]
     },
     "execution_count": 124,
     "metadata": {},
     "output_type": "execute_result"
    }
   ],
   "source": [
    "'''\n",
    "num_days = len(port_val)-1\n",
    "port_daily_ret = np.ones(num_days) \n",
    "for i in range(0,num_days):\n",
    "    port_daily_ret[i] = port_val[i+1] / port_val[i] -1\n",
    "    '''\n",
    "\n",
    "port_daily_ret = port_val/port_val.shift(1) -1\n",
    "port_daily_ret\n",
    "#len(port_daily_ret)"
   ]
  },
  {
   "cell_type": "code",
   "execution_count": 115,
   "metadata": {},
   "outputs": [
    {
     "name": "stdout",
     "output_type": "stream",
     "text": [
      "Sharpe Ratio: 1.52122579096\n",
      "Volatility (stdev of daily returns): 0.00999044185732\n",
      "Average Daily Return: 0.000957366234238\n",
      "Cumulative Return: 0.255646784534\n"
     ]
    }
   ],
   "source": [
    "adr = np.mean(port_daily_ret)\n",
    "sddr = np.std(port_daily_ret) # std of daily return\n",
    "sr = math.sqrt(252-1) * (adr - rfr) / sddr # Sharpe Ratio, risk-adjusted return /std of daily return\n",
    "\n",
    "\n",
    "print \"Sharpe Ratio:\", sr\n",
    "print \"Volatility (stdev of daily returns):\", sddr\n",
    "print \"Average Daily Return:\", adr\n",
    "print \"Cumulative Return:\", cr"
   ]
  },
  {
   "cell_type": "code",
   "execution_count": null,
   "metadata": {},
   "outputs": [],
   "source": []
  },
  {
   "cell_type": "code",
   "execution_count": null,
   "metadata": {
    "scrolled": true
   },
   "outputs": [],
   "source": []
  }
 ],
 "metadata": {
  "kernelspec": {
   "display_name": "Python 2",
   "language": "python",
   "name": "python2"
  },
  "language_info": {
   "codemirror_mode": {
    "name": "ipython",
    "version": 2
   },
   "file_extension": ".py",
   "mimetype": "text/x-python",
   "name": "python",
   "nbconvert_exporter": "python",
   "pygments_lexer": "ipython2",
   "version": "2.7.13"
  }
 },
 "nbformat": 4,
 "nbformat_minor": 2
}
