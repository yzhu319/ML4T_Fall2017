{
 "cells": [
  {
   "cell_type": "code",
   "execution_count": 118,
   "metadata": {
    "collapsed": true
   },
   "outputs": [],
   "source": [
    "\"\"\"Analyze a portfolio.\"\"\"\n",
    "\n",
    "import pandas as pd\n",
    "import numpy as np\n",
    "import datetime as dt\n",
    "from util import get_data, plot_data\n",
    "import math\n",
    "\n",
    "import matplotlib.pyplot as plt\n"
   ]
  },
  {
   "cell_type": "code",
   "execution_count": 119,
   "metadata": {
    "scrolled": true
   },
   "outputs": [],
   "source": [
    "sd = dt.datetime(2010,1,1)\n",
    "ed = dt.datetime(2010,12,31)\n",
    "#syms = ['AXP', 'HPQ', 'IBM', 'HNZ']\n",
    "syms = ['GOOG','AAPL','GLD','XOM']\n",
    "allocs=[0.2,0.3,0.4,0.1]\n",
    "#allocs=[0.0,0.0,0.0,1.0]\n",
    "\n",
    "sv=1000000\n",
    "rfr=0.0\n",
    "sf=252.0 #sampling frequency, if =252 for 1 year, it is daily return\n",
    "\n",
    "dates = pd.date_range(sd, ed)\n",
    "prices_all = get_data(syms, dates)  # automatically adds SPY\n",
    "prices = prices_all[syms]  # only portfolio symbols\n",
    "prices_SPY = prices_all['SPY']  # only SPY, for comparison later\n",
    "\n",
    "####New code below ###\n",
    "prices_norm = prices / prices.iloc[0]\n",
    "\n",
    "prices_alloc = prices_norm * allocs\n",
    "pos_alloc = sv * prices_alloc\n",
    "port_val = pos_alloc.sum(axis=1) # row sum, axis = 1; column sum, axis = 0\n"
   ]
  },
  {
   "cell_type": "code",
   "execution_count": 120,
   "metadata": {
    "collapsed": true
   },
   "outputs": [],
   "source": [
    "# Get portfolio statistics (note: std_daily_ret = volatility)\n",
    "#ev, cr, adr, sddr, sr\n",
    "ev = port_val[-1]\n",
    "cr = (port_val[-1] - port_val[0])/port_val[0]"
   ]
  },
  {
   "cell_type": "code",
   "execution_count": 123,
   "metadata": {},
   "outputs": [
    {
     "data": {
      "text/plain": [
       "array([ -3.50931683e-04,  -2.33141930e-03,  -7.92783523e-03,\n",
       "         6.15012391e-03,   3.62999777e-03,  -1.58654348e-02,\n",
       "         6.56116210e-03,   9.73805975e-04,  -1.32492294e-02,\n",
       "         1.82466562e-02,  -1.82265312e-02,  -1.22228859e-02,\n",
       "        -2.75450156e-02,   5.35261636e-03,   5.50833090e-03,\n",
       "        -1.76995983e-03,  -1.64296456e-02,  -1.52171422e-02,\n",
       "         1.73943034e-02,   5.29513589e-03,   6.10849416e-03,\n",
       "        -3.49852037e-02,   8.17607285e-03,  -3.85297105e-03,\n",
       "         1.10139373e-02,  -3.99412202e-03,   1.46209462e-02,\n",
       "         4.10253356e-04,   1.96736031e-02,  -4.49809007e-03,\n",
       "         5.35869676e-03,  -4.75879618e-03,  -3.41881183e-03,\n",
       "        -1.28170939e-02,   3.04252509e-03,   3.36073087e-03,\n",
       "         8.15618200e-03,   9.04512882e-03,   8.78530825e-03,\n",
       "         4.31461441e-03,   1.98681983e-03,   1.65817957e-02,\n",
       "        -3.78934387e-03,   4.73013966e-03,   3.86343414e-03,\n",
       "         2.92239420e-03,  -1.95797393e-03,  -8.38466990e-03,\n",
       "         9.46684400e-03,  -2.16699038e-03,   3.82385297e-03,\n",
       "        -1.34806968e-02,   6.96237366e-04,   4.46314052e-03,\n",
       "        -3.97983289e-03,  -5.99726977e-04,   1.30531271e-02,\n",
       "         3.73554590e-03,   2.99072802e-03,   2.41974919e-03,\n",
       "         7.53781748e-03,   7.28041866e-03,   6.66458966e-04,\n",
       "         4.40796878e-03,   1.63125997e-03,   6.92437006e-03,\n",
       "         3.81796119e-04,   3.33591727e-03,   6.21480921e-03,\n",
       "         7.94158121e-03,  -2.45253167e-02,  -3.64963279e-04,\n",
       "         3.04945546e-04,   2.26951797e-02,   5.34913640e-03,\n",
       "         1.07634018e-02,  -7.16602979e-03,  -5.59151428e-03,\n",
       "        -3.90652473e-04,   9.40148338e-03,  -9.37691194e-03,\n",
       "         9.87697225e-03,  -2.22185405e-02,  -2.22178864e-03,\n",
       "        -7.84790742e-03,  -1.69103999e-02,   3.37830946e-02,\n",
       "         9.85287812e-03,   9.47625671e-03,  -6.35901694e-03,\n",
       "        -9.26264361e-03,  -3.29328193e-03,  -5.64712509e-03,\n",
       "        -1.71169174e-02,  -2.64377814e-02,   4.01275912e-03,\n",
       "         1.27713524e-02,  -9.87630373e-04,   1.38067730e-03,\n",
       "         2.14155875e-02,   2.54908516e-03,   6.23407091e-03,\n",
       "         9.24627752e-03,  -2.58355425e-03,  -1.02146304e-02,\n",
       "        -3.09133573e-03,  -1.38706034e-03,  -1.48883584e-02,\n",
       "         1.11132516e-02,   8.17628414e-03,  -2.72429408e-03,\n",
       "         1.83811560e-02,   8.75854946e-03,   1.12155620e-02,\n",
       "         6.67280381e-03,  -1.65906872e-02,   6.15179753e-03,\n",
       "        -7.87265323e-03,  -4.89254113e-03,  -9.68886861e-05,\n",
       "        -4.67726441e-03,  -2.25636533e-02,  -8.06637620e-03,\n",
       "        -2.30819393e-02,   2.11865735e-03,  -3.68577549e-03,\n",
       "         2.45327216e-02,  -1.07340118e-04,   9.57290637e-03,\n",
       "        -3.96748014e-03,   9.53706740e-04,   1.50019550e-03,\n",
       "        -1.13932683e-03,  -2.02071420e-02,  -6.63831245e-03,\n",
       "         1.78648138e-02,  -2.03486752e-03,   1.42660216e-02,\n",
       "         6.41531634e-04,  -2.30557726e-03,   1.16098713e-03,\n",
       "        -5.72560111e-03,  -2.69352131e-03,   2.11065530e-03,\n",
       "         1.14501892e-02,   2.62096392e-03,   9.05606684e-03,\n",
       "        -2.88614500e-04,  -2.59636630e-03,   2.92448809e-03,\n",
       "        -3.20841813e-03,  -1.89563662e-02,   7.12898248e-03,\n",
       "        -5.96641466e-03,   1.23096315e-03,   8.87166038e-03,\n",
       "        -3.87770727e-04,  -9.32329330e-03,  -4.24624778e-03,\n",
       "        -4.42290311e-03,  -1.08082979e-02,   8.72940698e-03,\n",
       "        -6.81467209e-03,   6.47578072e-03,  -2.24432372e-03,\n",
       "         4.35786384e-03,   1.44339942e-02,   5.71125614e-03,\n",
       "         9.97396227e-03,  -1.24748051e-03,   9.05263972e-03,\n",
       "        -1.65055424e-03,   1.22240035e-03,   6.02609634e-03,\n",
       "         9.03917961e-03,   2.60231617e-03,   1.07223835e-02,\n",
       "         5.57138158e-04,   1.76430714e-02,   5.92841857e-03,\n",
       "         6.24203714e-03,   6.65134937e-04,   1.02739371e-02,\n",
       "        -5.09441911e-04,  -2.16394418e-03,   4.88680935e-04,\n",
       "        -4.89770941e-03,   2.64770046e-03,  -7.67862532e-03,\n",
       "         2.71203324e-02,   2.70894588e-03,  -5.83479292e-03,\n",
       "         1.25002877e-02,   4.45035320e-03,   3.69037601e-03,\n",
       "         9.46018646e-03,   4.36915348e-03,   2.75910543e-02,\n",
       "         1.11492160e-02,  -2.59962556e-02,   6.01653781e-03,\n",
       "        -5.31316551e-03,  -1.43605959e-03,   5.89832034e-03,\n",
       "         1.22509751e-04,  -5.99090907e-03,   3.44769074e-03,\n",
       "        -1.75691180e-03,   2.53315470e-03,   9.02552653e-03,\n",
       "         2.56455772e-03,   2.24518318e-02,   6.90226492e-04,\n",
       "         6.59231612e-03,  -8.82075367e-03,   7.14294867e-03,\n",
       "        -9.40972790e-04,  -2.58175311e-02,  -7.59831487e-03,\n",
       "        -1.57091940e-02,  -3.04204564e-03,   1.97562115e-02,\n",
       "        -2.86850091e-03,   1.12607388e-02,  -6.17092887e-03,\n",
       "         1.05820831e-02,  -5.03616882e-03,   1.55830923e-03,\n",
       "        -7.65566844e-03,   1.04185241e-02,   3.59393955e-03,\n",
       "         7.67166338e-03,   7.65891063e-03,  -7.38884508e-03,\n",
       "        -5.07858133e-04,   7.08979015e-04,   1.42425395e-03,\n",
       "         3.97797770e-03,  -1.31972247e-03,  -5.83237413e-03,\n",
       "        -8.07518293e-04,   1.35692143e-04,   5.65211248e-03,\n",
       "         5.52142441e-03,   1.01297369e-03,  -2.73490538e-03,\n",
       "         1.56426539e-03,   6.91443129e-03,   1.69821905e-03,\n",
       "        -4.33580729e-03,   2.14799016e-03])"
      ]
     },
     "execution_count": 123,
     "metadata": {},
     "output_type": "execute_result"
    }
   ],
   "source": [
    "num_days = len(port_val)-1\n",
    "port_daily_ret = np.ones(num_days) \n",
    "for i in range(0,num_days):\n",
    "    port_daily_ret[i] = port_val[i+1] / port_val[i] -1\n",
    "\n",
    "port_daily_ret = port_val/port_val.shift(1) -1\n",
    "port_daily_ret\n",
    "#len(port_daily_ret)"
   ]
  },
  {
   "cell_type": "code",
   "execution_count": 115,
   "metadata": {},
   "outputs": [
    {
     "name": "stdout",
     "output_type": "stream",
     "text": [
      "Sharpe Ratio: 1.52122579096\n",
      "Volatility (stdev of daily returns): 0.00999044185732\n",
      "Average Daily Return: 0.000957366234238\n",
      "Cumulative Return: 0.255646784534\n"
     ]
    }
   ],
   "source": [
    "adr = np.mean(port_daily_ret)\n",
    "sddr = np.std(port_daily_ret) # std of daily return\n",
    "sr = math.sqrt(252-1) * (adr - rfr) / sddr # Sharpe Ratio, risk-adjusted return /std of daily return\n",
    "\n",
    "\n",
    "print \"Sharpe Ratio:\", sr\n",
    "print \"Volatility (stdev of daily returns):\", sddr\n",
    "print \"Average Daily Return:\", adr\n",
    "print \"Cumulative Return:\", cr"
   ]
  },
  {
   "cell_type": "code",
   "execution_count": null,
   "metadata": {},
   "outputs": [],
   "source": []
  },
  {
   "cell_type": "code",
   "execution_count": null,
   "metadata": {
    "scrolled": true
   },
   "outputs": [],
   "source": []
  }
 ],
 "metadata": {
  "kernelspec": {
   "display_name": "Python 2",
   "language": "python",
   "name": "python2"
  },
  "language_info": {
   "codemirror_mode": {
    "name": "ipython",
    "version": 2
   },
   "file_extension": ".py",
   "mimetype": "text/x-python",
   "name": "python",
   "nbconvert_exporter": "python",
   "pygments_lexer": "ipython2",
   "version": "2.7.13"
  }
 },
 "nbformat": 4,
 "nbformat_minor": 2
}
