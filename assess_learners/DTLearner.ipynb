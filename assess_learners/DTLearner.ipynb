{
 "cells": [
  {
   "cell_type": "code",
   "execution_count": null,
   "metadata": {
    "collapsed": true
   },
   "outputs": [],
   "source": [
    "\"\"\"\n",
    "Decision Tree leaner .  \n",
    "\"\"\"\n",
    "\n",
    "import numpy as np\n",
    "\n",
    "class DTLearner(object):\n",
    "\n",
    "    def __init__(self, leaf_size = 1, verbose = False):\n",
    "        pass \n",
    "\n",
    "    def author(self):\n",
    "        return 'yzhu31' \n",
    "\n",
    "    def addEvidence(self,dataX,dataY):\n",
    "        \"\"\"\n",
    "        @summary: Add training data to DTlearner\n",
    "        @param dataX: X values of data to add\n",
    "        @param dataY: the Y training values\n",
    "        \"\"\"\n",
    "\n",
    "        # data used to build the tree; append dataY to dataX, N+1 column\n",
    "        # data = np.concatenate((dataX, dataY), axis = 1) #concatenate horizontally\n",
    "\n",
    "        \n",
    "\n",
    "        # build and save the model\n",
    "        self.model_coefs, residuals, rank, s = np.linalg.lstsq(newdataX, dataY)\n",
    "        \n",
    "    def query(self,points):\n",
    "        \"\"\"\n",
    "        @summary: Estimate a set of test points given the model we built.\n",
    "        @param points: should be a numpy array with each row corresponding to a specific query.\n",
    "        @returns the estimated values according to the saved model.\n",
    "        \"\"\"\n",
    "        return (self.model_coefs[:-1] * points).sum(axis = 1) + self.model_coefs[-1]\n",
    "\n",
    "if __name__==\"__main__\":\n",
    "    print \"the secret clue is 'zzyzx'\"\n"
   ]
  }
 ],
 "metadata": {
  "kernelspec": {
   "display_name": "Python 2",
   "language": "python",
   "name": "python2"
  },
  "language_info": {
   "codemirror_mode": {
    "name": "ipython",
    "version": 2
   },
   "file_extension": ".py",
   "mimetype": "text/x-python",
   "name": "python",
   "nbconvert_exporter": "python",
   "pygments_lexer": "ipython2",
   "version": "2.7.13"
  }
 },
 "nbformat": 4,
 "nbformat_minor": 2
}
