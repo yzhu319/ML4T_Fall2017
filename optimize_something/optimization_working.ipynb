{
 "cells": [
  {
   "cell_type": "code",
   "execution_count": 79,
   "metadata": {
    "collapsed": true
   },
   "outputs": [],
   "source": [
    "\"\"\"MC1-P2: Optimize a portfolio.\"\"\"\n",
    "import pandas as pd\n",
    "import matplotlib.pyplot as plt\n",
    "import numpy as np\n",
    "import scipy.optimize as spo\n",
    "import datetime as dt\n",
    "from util import get_data, plot_data\n"
   ]
  },
  {
   "cell_type": "code",
   "execution_count": 80,
   "metadata": {
    "collapsed": true
   },
   "outputs": [],
   "source": [
    "def calc_stats(allocs, prices_norm):\n",
    "    \"\"\"once get an allocation, calc stats of the portfolio\"\"\"\n",
    "    prices_alloc = prices_norm * allocs\n",
    "    pos_alloc = 1.0 * prices_alloc\n",
    "    port_val = pos_alloc.sum(axis=1) # row sum, axis = 1; column sum, axis = 0\n",
    "    \n",
    "    # Get portfolio statistics (note: std_daily_ret = volatility)\n",
    "    ev = port_val[-1]\n",
    "    cr = (port_val[-1] - port_val[0])/port_val[0]\n",
    "    \n",
    "    port_daily_ret = 1.0* port_val/port_val.shift(1) -1.0\n",
    "    port_daily_ret = port_daily_ret[1:]\n",
    "    \n",
    "    adr = (port_daily_ret - 0).mean() \n",
    "    sddr = (port_daily_ret * 1.0).std()\n",
    "    sr = np.sqrt(252.0) * adr / sddr # Sharpe Ratio, risk-adjusted return /std of daily return \n",
    "    \n",
    "    return cr, adr, sddr, sr"
   ]
  },
  {
   "cell_type": "code",
   "execution_count": 81,
   "metadata": {
    "collapsed": true
   },
   "outputs": [],
   "source": [
    "def calc_std(allocs, prices_norm):\n",
    "    \"\"\"Given a vector allocs, return the std of the portfolio\"\"\"\n",
    "    prices_alloc = prices_norm * allocs\n",
    "    pos_alloc = 1.0 * prices_alloc\n",
    "    port_val = pos_alloc.sum(axis=1) # row sum, axis = 1; column sum, axis = 0\n",
    "        \n",
    "    port_daily_ret = 1.0* port_val/port_val.shift(1) -1.0\n",
    "    port_daily_ret = port_daily_ret[1:]\n",
    "    adr = (port_daily_ret - 0).mean() \n",
    "    sddr = (port_daily_ret * 1.0).std()     #minimize sddr#\n",
    "    \n",
    "    return sddr"
   ]
  },
  {
   "cell_type": "code",
   "execution_count": 82,
   "metadata": {},
   "outputs": [],
   "source": [
    "# This is the function that will be tested by the autograder\n",
    "# The student must update this code to properly implement the functionality\n",
    "def optimize_portfolio(sd=dt.datetime(2008,1,1), ed=dt.datetime(2009,1,1), \\\n",
    "    syms=['GOOG','AAPL','GLD','XOM'], gen_plot=False):\n",
    "\n",
    "    # Read in adjusted closing prices for given symbols, date range\n",
    "    dates = pd.date_range(sd, ed)\n",
    "    prices_all = get_data(syms, dates)  # automatically adds SPY\n",
    "    prices = prices_all[syms]  # only portfolio symbols\n",
    "    prices_SPY = prices_all['SPY']  # only SPY, for comparison later\n",
    "    \n",
    "    # Fill NAN data\n",
    "    prices_all.fillna(method = \"ffill\",inplace=True)\n",
    "    prices_all.fillna(method = \"bfill\",inplace=True)\n",
    "\n",
    "    ###Add codes...###\n",
    "    # find the allocations for the optimal portfolio    \n",
    "    \n",
    "    # initial guess: same allocation\n",
    "    num_stocks = len(syms)\n",
    "    allocs0 = np.ones(num_stocks) * (1.0/num_stocks)\n",
    "    \n",
    "    # Get daily portfolio value\n",
    "    port_val = prices_SPY \n",
    "    prices_norm = prices / prices.iloc[0]\n",
    "    \n",
    "    # calc the allocs for minimized std\n",
    "    \n",
    "    # bounds for minimization, for every stock, allocation [0,1]\n",
    "    bnds = tuple([(0,1)]*num_stocks)\n",
    "    # constrains, sum(allocs)==1\n",
    "    cons = ({'type': 'eq', 'fun': lambda inputs: 1.0 - np.sum(inputs)})\n",
    "    minimize_results = spo.minimize(calc_std, allocs0, args=(prices_norm), method='SLSQP', bounds = bnds, constraints = cons)\n",
    "    allocs = minimize_results.x\n",
    "    #print(allocs)\n",
    "    #print(allocs.sum())\n",
    "    \n",
    "    [cr, adr, sddr, sr] = calc_stats(allocs, prices_norm)\n",
    "    \n",
    "    # Compare daily portfolio value with SPY using a normalized plot\n",
    "    if gen_plot:              \n",
    "        prices_SPY_norm = prices_SPY / prices_SPY[0]\n",
    "        port_val_norm = port_val / port_val[0]\n",
    "        fig = plt.figure()\n",
    "        \n",
    "        #retain matplotlib axis object ax\n",
    "        ax = prices_SPY_norm.plot(title = \"Daily portfolio value and SPY\",label=\"SPY\")\n",
    "        port_val_norm.plot(label=\"Portfolio\",ax=ax)\n",
    "        ax.set_xlabel(\"Date\")\n",
    "        ax.set_ylabel(\"Price\")\n",
    "        ax.legend(loc=\"upper left\")\n",
    "        #plt.show()\n",
    "        fig.savefig('report.pdf')\n",
    "        pass\n",
    "\n",
    "    return allocs, cr, adr, sddr, sr\n",
    "\n"
   ]
  },
  {
   "cell_type": "code",
   "execution_count": 83,
   "metadata": {},
   "outputs": [
    {
     "name": "stdout",
     "output_type": "stream",
     "text": [
      "Start Date: 2009-01-01 00:00:00\n",
      "End Date: 2010-01-01 00:00:00\n",
      "Symbols: ['GOOG', 'AAPL', 'GLD', 'XOM', 'IBM']\n",
      "Allocations: [ 0.03517012  0.02897788  0.54090279  0.22746414  0.16748508]\n",
      "Sharpe Ratio: 1.60410310994\n",
      "Volatility (stdev of daily returns): 0.00952012769362\n",
      "Average Daily Return: 0.000961999362055\n",
      "Cumulative Return: 0.258619435661\n"
     ]
    }
   ],
   "source": [
    "def test_code():\n",
    "    # This function WILL NOT be called by the auto grader\n",
    "    # Do not assume that any variables defined here are available to your function/code\n",
    "    # It is only here to help you set up and test your code\n",
    "\n",
    "    # Define input parameters\n",
    "    # Note that ALL of these values will be set to different values by\n",
    "    # the autograder!\n",
    "\n",
    "    start_date = dt.datetime(2009,1,1)\n",
    "    end_date = dt.datetime(2010,1,1)\n",
    "    symbols = ['GOOG', 'AAPL', 'GLD', 'XOM', 'IBM']\n",
    "    #symbols =  [ 'AAPL', 'GLD', 'XOM', 'IBM']\n",
    "\n",
    "    # Assess the portfolio\n",
    "    allocations, cr, adr, sddr, sr = optimize_portfolio(sd = start_date, ed = end_date,\\\n",
    "        syms = symbols, \\\n",
    "        gen_plot = True)\n",
    "\n",
    "    # Print statistics\n",
    "    print \"Start Date:\", start_date\n",
    "    print \"End Date:\", end_date\n",
    "    print \"Symbols:\", symbols\n",
    "    print \"Allocations:\", allocations\n",
    "    print \"Sharpe Ratio:\", sr\n",
    "    print \"Volatility (stdev of daily returns):\", sddr\n",
    "    print \"Average Daily Return:\", adr\n",
    "    print \"Cumulative Return:\", cr\n",
    "\n",
    "if __name__ == \"__main__\":\n",
    "    # This code WILL NOT be called by the auto grader\n",
    "    # Do not assume that it will be called\n",
    "    test_code()\n"
   ]
  }
 ],
 "metadata": {
  "kernelspec": {
   "display_name": "Python 2",
   "language": "python",
   "name": "python2"
  },
  "language_info": {
   "codemirror_mode": {
    "name": "ipython",
    "version": 2
   },
   "file_extension": ".py",
   "mimetype": "text/x-python",
   "name": "python",
   "nbconvert_exporter": "python",
   "pygments_lexer": "ipython2",
   "version": "2.7.13"
  }
 },
 "nbformat": 4,
 "nbformat_minor": 2
}
